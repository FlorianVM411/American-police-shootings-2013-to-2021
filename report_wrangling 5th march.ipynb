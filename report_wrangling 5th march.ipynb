{
  "metadata": {
    "kernelspec": {
      "name": "python",
      "display_name": "Python (Pyodide)",
      "language": "python"
    },
    "language_info": {
      "codemirror_mode": {
        "name": "python",
        "version": 3
      },
      "file_extension": ".py",
      "mimetype": "text/x-python",
      "name": "python",
      "nbconvert_exporter": "python",
      "pygments_lexer": "ipython3",
      "version": "3.8"
    }
  },
  "nbformat_minor": 4,
  "nbformat": 4,
  "cells": [
    {
      "cell_type": "code",
      "source": "import pandas as pd \nimport numpy as np\nimport matplotlib ",
      "metadata": {
        "trusted": true
      },
      "outputs": [
        {
          "ename": "<class 'SyntaxError'>",
          "evalue": "invalid syntax (<ipython-input-111-a91a194e3db2>, line 4)",
          "traceback": [
            "\u001b[0;36m  Cell \u001b[0;32mIn[111], line 4\u001b[0;36m\u001b[0m\n\u001b[0;31m    pip install openpyxl\u001b[0m\n\u001b[0m        ^\u001b[0m\n\u001b[0;31mSyntaxError\u001b[0m\u001b[0;31m:\u001b[0m invalid syntax\n"
          ],
          "output_type": "error"
        }
      ],
      "execution_count": 111
    },
    {
      "cell_type": "code",
      "source": "report = pd.read_csv(\"USPV.csv\")",
      "metadata": {
        "trusted": true
      },
      "outputs": [],
      "execution_count": 2
    },
    {
      "cell_type": "code",
      "source": "report = report.rename(columns={\"Victim's name\":\"Name\", \"Victim's age\":\"Age\", \"Victim's race\":\"Race\", \"Date of Incident (month/day/year)\":\"Date\", \"Agency responsible for death\": \"Agency\", \n                \"Symptoms of mental illness?\":\"Illness\", \"Alleged Weapon (Source: WaPo and Review of Cases Not Included in WaPo Database)\": \"Weapon\", \"Alleged Threat Level (Source: WaPo)\":\n                \"Threat\", \"Fleeing (Source: WaPo)\":\"Fleeing\"}) \n",
      "metadata": {
        "trusted": true
      },
      "outputs": [],
      "execution_count": 3
    },
    {
      "cell_type": "code",
      "source": "report[(report[\"Threat\"].isna())& (report[\"Armed/Unarmed Status\"] == \"Unclear\") & (report[\"Weapon\"] != \"undetermined\")]",
      "metadata": {
        "trusted": true
      },
      "outputs": [
        {
          "execution_count": 4,
          "output_type": "execute_result",
          "data": {
            "text/plain": "      Unnamed: 0                       Name Age Victim's gender  \\\n3658        3658         Eddie James Morris  46            Male   \n3686        3686    Philip Steven McMichael  36            Male   \n6715        6715                 Oscar Ruiz  44            Male   \n6936        6936               Mario Ocasio  51            Male   \n7438        7438               Aaron Martin  41            Male   \n7744        7744    Guillermo Culajay Canas  36            Male   \n7789        7789              Diana Showman  19          Female   \n8129        8129           Jason Conoscenti  36            Male   \n8146        8146              Siale Angilau  25            Male   \n8182        8182                Dennis Doty  45            Male   \n8291        8291           Robert J. Storay  52            Male   \n8320        8320            Armando Alvarez  44            Male   \n8324        8324          Jesus Flores-Cruz  42            Male   \n8431        8431                Keith Vidal  18            Male   \n8686        8686           Darrell Atkinson  49            Male   \n9185        9185         Omar Marchabeyoglu  54            Male   \n9235        9235             Anthony Howard  51            Male   \n9317        9317             Barry Caldwell  42            Male   \n9329        9329           Angelo D. Moreno  27            Male   \n9379        9379    Richard Edward McKenzie  46            Male   \n9459        9459  Alfredo Emilio Villarreal  18            Male   \n9484        9484       Wesley Kyle Swilling  31            Male   \n\n                  Race        Date                  City State  Zipcode  \\\n3658             Black  2018-05-23           Tallahassee    FL  32317.0   \n3686             White  2018-05-13                 Amite    LA  70422.0   \n6715          Hispanic  2015-08-15             Irwindale    CA  91706.0   \n6936          Hispanic  2015-06-08              New York    NY  10468.0   \n7438             White  2014-12-19               Holiday    FL  34691.0   \n7744          Hispanic  2014-08-28              St. Paul    MN  55107.0   \n7789             White  2014-08-14              San Jose    CA  95123.0   \n8129             White  2014-04-27            Long Beach    CA  90802.0   \n8146  Pacific Islander  2014-04-21        Salt Lake City    UT  84111.0   \n8182             White  2014-04-11             Woodstock    GA  30188.0   \n8291             Black  2014-03-05           Little Rock    AR  72205.0   \n8320          Hispanic  2014-02-22                Tucson    AZ  85711.0   \n8324          Hispanic  2014-02-18             San Diego    CA  92154.0   \n8431             White  2014-01-05  Boiling Spring Lakes    NC  28461.0   \n8686             Black  2013-10-06           Los Angeles    CA  90034.0   \n9185             White  2013-05-01              San Leon    TX  77539.0   \n9235      Unknown race  2013-04-19          Gaithersburg    MD  20879.0   \n9317             Black  2013-03-19            Orangeburg    SC  29115.0   \n9329      Unknown race  2013-03-15       American Canyon    CA  94503.0   \n9379             Black  2013-02-28               Houston    TX  77096.0   \n9459          Hispanic  2013-01-21               Elkhorn    WI  53121.0   \n9484      Unknown race  2013-01-14            Greenville    SC  29601.0   \n\n                                       Agency Cause of death  \\\n3658             Leon County Sheriff's Office          Taser   \n3686       Tangipahoa Parish Sheriff's Office        Gunshot   \n6715  Los Angeles County Sheriff's Department          Taser   \n6936               New York Police Department          Taser   \n7438            Pasco County Sheriff's Office        Gunshot   \n7744               St. Paul Police Department        Gunshot   \n7789               San Jose Police Department        Gunshot   \n8129             Long Beach Police Department        Gunshot   \n8146                    U.S. Marshals Service        Gunshot   \n8182              Woodstock Police Department        Gunshot   \n8291      North Little Rock Police Department        Gunshot   \n8320                 Tucson Police Department        Gunshot   \n8324                       U.S. Border Patrol        Gunshot   \n8431              Southport Police Department        Gunshot   \n8686  Los Angeles County Sheriff's Department        Gunshot   \n9185        Galveston County Sheriff's Office        Gunshot   \n9235      Montgomery County Police Department          Taser   \n9317       Orangeburg County Sheriff's Office        Gunshot   \n9329        American Canyon Police Department        Gunshot   \n9379                Houston Police Department        Gunshot   \n9459         Walworth County Sheriff's Office        Gunshot   \n9484       Greenville County Sheriff's Office        Gunshot   \n\n       Criminal Charges?              Illness             Weapon Threat  \\\n3658    No known charges                   No               lamp    NaN   \n3686    No known charges                   No     unknown weapon    NaN   \n6715    No known charges              Unknown           flagpole    NaN   \n6936    No known charges  Drug or alcohol use           scissors    NaN   \n7438    No known charges                   No  wooden nightstand    NaN   \n7744    No known charges                   No              rocks    NaN   \n7789    No known charges                  Yes     cordless drill    NaN   \n8129    No known charges                   No        wood stick     NaN   \n8146    No known charges                   No                pen    NaN   \n8182    No known charges              Unknown               rock    NaN   \n8291    No known charges              Unknown               cane    NaN   \n8320    No known charges                   No             wrench    NaN   \n8324    No known charges              Unknown              rocks    NaN   \n8431  Charged, Acquitted                  Yes       screw driver    NaN   \n8686    No known charges                   No       wooden stick    NaN   \n9185    No known charges              Unknown           scissors    NaN   \n9235    No known charges                   No               rock    NaN   \n9317    No known charges                  Yes             shovel    NaN   \n9329    No known charges  Drug or alcohol use               tool    NaN   \n9379    No known charges                   No           scissors    NaN   \n9459    No known charges                   No              chair    NaN   \n9484    No known charges                   No       hot glue gun    NaN   \n\n     Fleeing Armed/Unarmed Status  \n3658     NaN              Unclear  \n3686     NaN              Unclear  \n6715     NaN              Unclear  \n6936     NaN              Unclear  \n7438     NaN              Unclear  \n7744     NaN              Unclear  \n7789     NaN              Unclear  \n8129     NaN              Unclear  \n8146     NaN              Unclear  \n8182     NaN              Unclear  \n8291     NaN              Unclear  \n8320     NaN              Unclear  \n8324     NaN              Unclear  \n8431     NaN              Unclear  \n8686     NaN              Unclear  \n9185     NaN              Unclear  \n9235     NaN              Unclear  \n9317     NaN              Unclear  \n9329     NaN              Unclear  \n9379     NaN              Unclear  \n9459     NaN              Unclear  \n9484     NaN              Unclear  ",
            "text/html": "<div>\n<style scoped>\n    .dataframe tbody tr th:only-of-type {\n        vertical-align: middle;\n    }\n\n    .dataframe tbody tr th {\n        vertical-align: top;\n    }\n\n    .dataframe thead th {\n        text-align: right;\n    }\n</style>\n<table border=\"1\" class=\"dataframe\">\n  <thead>\n    <tr style=\"text-align: right;\">\n      <th></th>\n      <th>Unnamed: 0</th>\n      <th>Name</th>\n      <th>Age</th>\n      <th>Victim's gender</th>\n      <th>Race</th>\n      <th>Date</th>\n      <th>City</th>\n      <th>State</th>\n      <th>Zipcode</th>\n      <th>Agency</th>\n      <th>Cause of death</th>\n      <th>Criminal Charges?</th>\n      <th>Illness</th>\n      <th>Weapon</th>\n      <th>Threat</th>\n      <th>Fleeing</th>\n      <th>Armed/Unarmed Status</th>\n    </tr>\n  </thead>\n  <tbody>\n    <tr>\n      <th>3658</th>\n      <td>3658</td>\n      <td>Eddie James Morris</td>\n      <td>46</td>\n      <td>Male</td>\n      <td>Black</td>\n      <td>2018-05-23</td>\n      <td>Tallahassee</td>\n      <td>FL</td>\n      <td>32317.0</td>\n      <td>Leon County Sheriff's Office</td>\n      <td>Taser</td>\n      <td>No known charges</td>\n      <td>No</td>\n      <td>lamp</td>\n      <td>NaN</td>\n      <td>NaN</td>\n      <td>Unclear</td>\n    </tr>\n    <tr>\n      <th>3686</th>\n      <td>3686</td>\n      <td>Philip Steven McMichael</td>\n      <td>36</td>\n      <td>Male</td>\n      <td>White</td>\n      <td>2018-05-13</td>\n      <td>Amite</td>\n      <td>LA</td>\n      <td>70422.0</td>\n      <td>Tangipahoa Parish Sheriff's Office</td>\n      <td>Gunshot</td>\n      <td>No known charges</td>\n      <td>No</td>\n      <td>unknown weapon</td>\n      <td>NaN</td>\n      <td>NaN</td>\n      <td>Unclear</td>\n    </tr>\n    <tr>\n      <th>6715</th>\n      <td>6715</td>\n      <td>Oscar Ruiz</td>\n      <td>44</td>\n      <td>Male</td>\n      <td>Hispanic</td>\n      <td>2015-08-15</td>\n      <td>Irwindale</td>\n      <td>CA</td>\n      <td>91706.0</td>\n      <td>Los Angeles County Sheriff's Department</td>\n      <td>Taser</td>\n      <td>No known charges</td>\n      <td>Unknown</td>\n      <td>flagpole</td>\n      <td>NaN</td>\n      <td>NaN</td>\n      <td>Unclear</td>\n    </tr>\n    <tr>\n      <th>6936</th>\n      <td>6936</td>\n      <td>Mario Ocasio</td>\n      <td>51</td>\n      <td>Male</td>\n      <td>Hispanic</td>\n      <td>2015-06-08</td>\n      <td>New York</td>\n      <td>NY</td>\n      <td>10468.0</td>\n      <td>New York Police Department</td>\n      <td>Taser</td>\n      <td>No known charges</td>\n      <td>Drug or alcohol use</td>\n      <td>scissors</td>\n      <td>NaN</td>\n      <td>NaN</td>\n      <td>Unclear</td>\n    </tr>\n    <tr>\n      <th>7438</th>\n      <td>7438</td>\n      <td>Aaron Martin</td>\n      <td>41</td>\n      <td>Male</td>\n      <td>White</td>\n      <td>2014-12-19</td>\n      <td>Holiday</td>\n      <td>FL</td>\n      <td>34691.0</td>\n      <td>Pasco County Sheriff's Office</td>\n      <td>Gunshot</td>\n      <td>No known charges</td>\n      <td>No</td>\n      <td>wooden nightstand</td>\n      <td>NaN</td>\n      <td>NaN</td>\n      <td>Unclear</td>\n    </tr>\n    <tr>\n      <th>7744</th>\n      <td>7744</td>\n      <td>Guillermo Culajay Canas</td>\n      <td>36</td>\n      <td>Male</td>\n      <td>Hispanic</td>\n      <td>2014-08-28</td>\n      <td>St. Paul</td>\n      <td>MN</td>\n      <td>55107.0</td>\n      <td>St. Paul Police Department</td>\n      <td>Gunshot</td>\n      <td>No known charges</td>\n      <td>No</td>\n      <td>rocks</td>\n      <td>NaN</td>\n      <td>NaN</td>\n      <td>Unclear</td>\n    </tr>\n    <tr>\n      <th>7789</th>\n      <td>7789</td>\n      <td>Diana Showman</td>\n      <td>19</td>\n      <td>Female</td>\n      <td>White</td>\n      <td>2014-08-14</td>\n      <td>San Jose</td>\n      <td>CA</td>\n      <td>95123.0</td>\n      <td>San Jose Police Department</td>\n      <td>Gunshot</td>\n      <td>No known charges</td>\n      <td>Yes</td>\n      <td>cordless drill</td>\n      <td>NaN</td>\n      <td>NaN</td>\n      <td>Unclear</td>\n    </tr>\n    <tr>\n      <th>8129</th>\n      <td>8129</td>\n      <td>Jason Conoscenti</td>\n      <td>36</td>\n      <td>Male</td>\n      <td>White</td>\n      <td>2014-04-27</td>\n      <td>Long Beach</td>\n      <td>CA</td>\n      <td>90802.0</td>\n      <td>Long Beach Police Department</td>\n      <td>Gunshot</td>\n      <td>No known charges</td>\n      <td>No</td>\n      <td>wood stick</td>\n      <td>NaN</td>\n      <td>NaN</td>\n      <td>Unclear</td>\n    </tr>\n    <tr>\n      <th>8146</th>\n      <td>8146</td>\n      <td>Siale Angilau</td>\n      <td>25</td>\n      <td>Male</td>\n      <td>Pacific Islander</td>\n      <td>2014-04-21</td>\n      <td>Salt Lake City</td>\n      <td>UT</td>\n      <td>84111.0</td>\n      <td>U.S. Marshals Service</td>\n      <td>Gunshot</td>\n      <td>No known charges</td>\n      <td>No</td>\n      <td>pen</td>\n      <td>NaN</td>\n      <td>NaN</td>\n      <td>Unclear</td>\n    </tr>\n    <tr>\n      <th>8182</th>\n      <td>8182</td>\n      <td>Dennis Doty</td>\n      <td>45</td>\n      <td>Male</td>\n      <td>White</td>\n      <td>2014-04-11</td>\n      <td>Woodstock</td>\n      <td>GA</td>\n      <td>30188.0</td>\n      <td>Woodstock Police Department</td>\n      <td>Gunshot</td>\n      <td>No known charges</td>\n      <td>Unknown</td>\n      <td>rock</td>\n      <td>NaN</td>\n      <td>NaN</td>\n      <td>Unclear</td>\n    </tr>\n    <tr>\n      <th>8291</th>\n      <td>8291</td>\n      <td>Robert J. Storay</td>\n      <td>52</td>\n      <td>Male</td>\n      <td>Black</td>\n      <td>2014-03-05</td>\n      <td>Little Rock</td>\n      <td>AR</td>\n      <td>72205.0</td>\n      <td>North Little Rock Police Department</td>\n      <td>Gunshot</td>\n      <td>No known charges</td>\n      <td>Unknown</td>\n      <td>cane</td>\n      <td>NaN</td>\n      <td>NaN</td>\n      <td>Unclear</td>\n    </tr>\n    <tr>\n      <th>8320</th>\n      <td>8320</td>\n      <td>Armando Alvarez</td>\n      <td>44</td>\n      <td>Male</td>\n      <td>Hispanic</td>\n      <td>2014-02-22</td>\n      <td>Tucson</td>\n      <td>AZ</td>\n      <td>85711.0</td>\n      <td>Tucson Police Department</td>\n      <td>Gunshot</td>\n      <td>No known charges</td>\n      <td>No</td>\n      <td>wrench</td>\n      <td>NaN</td>\n      <td>NaN</td>\n      <td>Unclear</td>\n    </tr>\n    <tr>\n      <th>8324</th>\n      <td>8324</td>\n      <td>Jesus Flores-Cruz</td>\n      <td>42</td>\n      <td>Male</td>\n      <td>Hispanic</td>\n      <td>2014-02-18</td>\n      <td>San Diego</td>\n      <td>CA</td>\n      <td>92154.0</td>\n      <td>U.S. Border Patrol</td>\n      <td>Gunshot</td>\n      <td>No known charges</td>\n      <td>Unknown</td>\n      <td>rocks</td>\n      <td>NaN</td>\n      <td>NaN</td>\n      <td>Unclear</td>\n    </tr>\n    <tr>\n      <th>8431</th>\n      <td>8431</td>\n      <td>Keith Vidal</td>\n      <td>18</td>\n      <td>Male</td>\n      <td>White</td>\n      <td>2014-01-05</td>\n      <td>Boiling Spring Lakes</td>\n      <td>NC</td>\n      <td>28461.0</td>\n      <td>Southport Police Department</td>\n      <td>Gunshot</td>\n      <td>Charged, Acquitted</td>\n      <td>Yes</td>\n      <td>screw driver</td>\n      <td>NaN</td>\n      <td>NaN</td>\n      <td>Unclear</td>\n    </tr>\n    <tr>\n      <th>8686</th>\n      <td>8686</td>\n      <td>Darrell Atkinson</td>\n      <td>49</td>\n      <td>Male</td>\n      <td>Black</td>\n      <td>2013-10-06</td>\n      <td>Los Angeles</td>\n      <td>CA</td>\n      <td>90034.0</td>\n      <td>Los Angeles County Sheriff's Department</td>\n      <td>Gunshot</td>\n      <td>No known charges</td>\n      <td>No</td>\n      <td>wooden stick</td>\n      <td>NaN</td>\n      <td>NaN</td>\n      <td>Unclear</td>\n    </tr>\n    <tr>\n      <th>9185</th>\n      <td>9185</td>\n      <td>Omar Marchabeyoglu</td>\n      <td>54</td>\n      <td>Male</td>\n      <td>White</td>\n      <td>2013-05-01</td>\n      <td>San Leon</td>\n      <td>TX</td>\n      <td>77539.0</td>\n      <td>Galveston County Sheriff's Office</td>\n      <td>Gunshot</td>\n      <td>No known charges</td>\n      <td>Unknown</td>\n      <td>scissors</td>\n      <td>NaN</td>\n      <td>NaN</td>\n      <td>Unclear</td>\n    </tr>\n    <tr>\n      <th>9235</th>\n      <td>9235</td>\n      <td>Anthony Howard</td>\n      <td>51</td>\n      <td>Male</td>\n      <td>Unknown race</td>\n      <td>2013-04-19</td>\n      <td>Gaithersburg</td>\n      <td>MD</td>\n      <td>20879.0</td>\n      <td>Montgomery County Police Department</td>\n      <td>Taser</td>\n      <td>No known charges</td>\n      <td>No</td>\n      <td>rock</td>\n      <td>NaN</td>\n      <td>NaN</td>\n      <td>Unclear</td>\n    </tr>\n    <tr>\n      <th>9317</th>\n      <td>9317</td>\n      <td>Barry Caldwell</td>\n      <td>42</td>\n      <td>Male</td>\n      <td>Black</td>\n      <td>2013-03-19</td>\n      <td>Orangeburg</td>\n      <td>SC</td>\n      <td>29115.0</td>\n      <td>Orangeburg County Sheriff's Office</td>\n      <td>Gunshot</td>\n      <td>No known charges</td>\n      <td>Yes</td>\n      <td>shovel</td>\n      <td>NaN</td>\n      <td>NaN</td>\n      <td>Unclear</td>\n    </tr>\n    <tr>\n      <th>9329</th>\n      <td>9329</td>\n      <td>Angelo D. Moreno</td>\n      <td>27</td>\n      <td>Male</td>\n      <td>Unknown race</td>\n      <td>2013-03-15</td>\n      <td>American Canyon</td>\n      <td>CA</td>\n      <td>94503.0</td>\n      <td>American Canyon Police Department</td>\n      <td>Gunshot</td>\n      <td>No known charges</td>\n      <td>Drug or alcohol use</td>\n      <td>tool</td>\n      <td>NaN</td>\n      <td>NaN</td>\n      <td>Unclear</td>\n    </tr>\n    <tr>\n      <th>9379</th>\n      <td>9379</td>\n      <td>Richard Edward McKenzie</td>\n      <td>46</td>\n      <td>Male</td>\n      <td>Black</td>\n      <td>2013-02-28</td>\n      <td>Houston</td>\n      <td>TX</td>\n      <td>77096.0</td>\n      <td>Houston Police Department</td>\n      <td>Gunshot</td>\n      <td>No known charges</td>\n      <td>No</td>\n      <td>scissors</td>\n      <td>NaN</td>\n      <td>NaN</td>\n      <td>Unclear</td>\n    </tr>\n    <tr>\n      <th>9459</th>\n      <td>9459</td>\n      <td>Alfredo Emilio Villarreal</td>\n      <td>18</td>\n      <td>Male</td>\n      <td>Hispanic</td>\n      <td>2013-01-21</td>\n      <td>Elkhorn</td>\n      <td>WI</td>\n      <td>53121.0</td>\n      <td>Walworth County Sheriff's Office</td>\n      <td>Gunshot</td>\n      <td>No known charges</td>\n      <td>No</td>\n      <td>chair</td>\n      <td>NaN</td>\n      <td>NaN</td>\n      <td>Unclear</td>\n    </tr>\n    <tr>\n      <th>9484</th>\n      <td>9484</td>\n      <td>Wesley Kyle Swilling</td>\n      <td>31</td>\n      <td>Male</td>\n      <td>Unknown race</td>\n      <td>2013-01-14</td>\n      <td>Greenville</td>\n      <td>SC</td>\n      <td>29601.0</td>\n      <td>Greenville County Sheriff's Office</td>\n      <td>Gunshot</td>\n      <td>No known charges</td>\n      <td>No</td>\n      <td>hot glue gun</td>\n      <td>NaN</td>\n      <td>NaN</td>\n      <td>Unclear</td>\n    </tr>\n  </tbody>\n</table>\n</div>"
          },
          "metadata": {}
        }
      ],
      "execution_count": 4
    },
    {
      "cell_type": "code",
      "source": "report.iloc[[3658,6715,7438,7744,8182,8324,9235,7789,8129,8146,8291,8291,8686,9484,9459], report.columns.get_loc('Threat')]  = \"No Threat\"\nreport.iloc[[3658,6715,7438,7744,8182,8324,9235,7789,8129,8146,8291,8291,8686,9484,9459], report.columns.get_loc('Armed/Unarmed Status')]  = \"Unarmed\"",
      "metadata": {
        "trusted": true
      },
      "outputs": [],
      "execution_count": 5
    },
    {
      "cell_type": "code",
      "source": "report[(report[\"Threat\"].isna())& (report[\"Armed/Unarmed Status\"] == \"Unclear\") & (report[\"Weapon\"] != \"undetermined\")]",
      "metadata": {
        "trusted": true
      },
      "outputs": [
        {
          "execution_count": 6,
          "output_type": "execute_result",
          "data": {
            "text/plain": "      Unnamed: 0                     Name Age Victim's gender          Race  \\\n3686        3686  Philip Steven McMichael  36            Male         White   \n6936        6936             Mario Ocasio  51            Male      Hispanic   \n8320        8320          Armando Alvarez  44            Male      Hispanic   \n8431        8431              Keith Vidal  18            Male         White   \n9185        9185       Omar Marchabeyoglu  54            Male         White   \n9317        9317           Barry Caldwell  42            Male         Black   \n9329        9329         Angelo D. Moreno  27            Male  Unknown race   \n9379        9379  Richard Edward McKenzie  46            Male         Black   \n\n            Date                  City State  Zipcode  \\\n3686  2018-05-13                 Amite    LA  70422.0   \n6936  2015-06-08              New York    NY  10468.0   \n8320  2014-02-22                Tucson    AZ  85711.0   \n8431  2014-01-05  Boiling Spring Lakes    NC  28461.0   \n9185  2013-05-01              San Leon    TX  77539.0   \n9317  2013-03-19            Orangeburg    SC  29115.0   \n9329  2013-03-15       American Canyon    CA  94503.0   \n9379  2013-02-28               Houston    TX  77096.0   \n\n                                  Agency Cause of death   Criminal Charges?  \\\n3686  Tangipahoa Parish Sheriff's Office        Gunshot    No known charges   \n6936          New York Police Department          Taser    No known charges   \n8320            Tucson Police Department        Gunshot    No known charges   \n8431         Southport Police Department        Gunshot  Charged, Acquitted   \n9185   Galveston County Sheriff's Office        Gunshot    No known charges   \n9317  Orangeburg County Sheriff's Office        Gunshot    No known charges   \n9329   American Canyon Police Department        Gunshot    No known charges   \n9379           Houston Police Department        Gunshot    No known charges   \n\n                  Illness          Weapon Threat Fleeing Armed/Unarmed Status  \n3686                   No  unknown weapon    NaN     NaN              Unclear  \n6936  Drug or alcohol use        scissors    NaN     NaN              Unclear  \n8320                   No          wrench    NaN     NaN              Unclear  \n8431                  Yes    screw driver    NaN     NaN              Unclear  \n9185              Unknown        scissors    NaN     NaN              Unclear  \n9317                  Yes          shovel    NaN     NaN              Unclear  \n9329  Drug or alcohol use            tool    NaN     NaN              Unclear  \n9379                   No        scissors    NaN     NaN              Unclear  ",
            "text/html": "<div>\n<style scoped>\n    .dataframe tbody tr th:only-of-type {\n        vertical-align: middle;\n    }\n\n    .dataframe tbody tr th {\n        vertical-align: top;\n    }\n\n    .dataframe thead th {\n        text-align: right;\n    }\n</style>\n<table border=\"1\" class=\"dataframe\">\n  <thead>\n    <tr style=\"text-align: right;\">\n      <th></th>\n      <th>Unnamed: 0</th>\n      <th>Name</th>\n      <th>Age</th>\n      <th>Victim's gender</th>\n      <th>Race</th>\n      <th>Date</th>\n      <th>City</th>\n      <th>State</th>\n      <th>Zipcode</th>\n      <th>Agency</th>\n      <th>Cause of death</th>\n      <th>Criminal Charges?</th>\n      <th>Illness</th>\n      <th>Weapon</th>\n      <th>Threat</th>\n      <th>Fleeing</th>\n      <th>Armed/Unarmed Status</th>\n    </tr>\n  </thead>\n  <tbody>\n    <tr>\n      <th>3686</th>\n      <td>3686</td>\n      <td>Philip Steven McMichael</td>\n      <td>36</td>\n      <td>Male</td>\n      <td>White</td>\n      <td>2018-05-13</td>\n      <td>Amite</td>\n      <td>LA</td>\n      <td>70422.0</td>\n      <td>Tangipahoa Parish Sheriff's Office</td>\n      <td>Gunshot</td>\n      <td>No known charges</td>\n      <td>No</td>\n      <td>unknown weapon</td>\n      <td>NaN</td>\n      <td>NaN</td>\n      <td>Unclear</td>\n    </tr>\n    <tr>\n      <th>6936</th>\n      <td>6936</td>\n      <td>Mario Ocasio</td>\n      <td>51</td>\n      <td>Male</td>\n      <td>Hispanic</td>\n      <td>2015-06-08</td>\n      <td>New York</td>\n      <td>NY</td>\n      <td>10468.0</td>\n      <td>New York Police Department</td>\n      <td>Taser</td>\n      <td>No known charges</td>\n      <td>Drug or alcohol use</td>\n      <td>scissors</td>\n      <td>NaN</td>\n      <td>NaN</td>\n      <td>Unclear</td>\n    </tr>\n    <tr>\n      <th>8320</th>\n      <td>8320</td>\n      <td>Armando Alvarez</td>\n      <td>44</td>\n      <td>Male</td>\n      <td>Hispanic</td>\n      <td>2014-02-22</td>\n      <td>Tucson</td>\n      <td>AZ</td>\n      <td>85711.0</td>\n      <td>Tucson Police Department</td>\n      <td>Gunshot</td>\n      <td>No known charges</td>\n      <td>No</td>\n      <td>wrench</td>\n      <td>NaN</td>\n      <td>NaN</td>\n      <td>Unclear</td>\n    </tr>\n    <tr>\n      <th>8431</th>\n      <td>8431</td>\n      <td>Keith Vidal</td>\n      <td>18</td>\n      <td>Male</td>\n      <td>White</td>\n      <td>2014-01-05</td>\n      <td>Boiling Spring Lakes</td>\n      <td>NC</td>\n      <td>28461.0</td>\n      <td>Southport Police Department</td>\n      <td>Gunshot</td>\n      <td>Charged, Acquitted</td>\n      <td>Yes</td>\n      <td>screw driver</td>\n      <td>NaN</td>\n      <td>NaN</td>\n      <td>Unclear</td>\n    </tr>\n    <tr>\n      <th>9185</th>\n      <td>9185</td>\n      <td>Omar Marchabeyoglu</td>\n      <td>54</td>\n      <td>Male</td>\n      <td>White</td>\n      <td>2013-05-01</td>\n      <td>San Leon</td>\n      <td>TX</td>\n      <td>77539.0</td>\n      <td>Galveston County Sheriff's Office</td>\n      <td>Gunshot</td>\n      <td>No known charges</td>\n      <td>Unknown</td>\n      <td>scissors</td>\n      <td>NaN</td>\n      <td>NaN</td>\n      <td>Unclear</td>\n    </tr>\n    <tr>\n      <th>9317</th>\n      <td>9317</td>\n      <td>Barry Caldwell</td>\n      <td>42</td>\n      <td>Male</td>\n      <td>Black</td>\n      <td>2013-03-19</td>\n      <td>Orangeburg</td>\n      <td>SC</td>\n      <td>29115.0</td>\n      <td>Orangeburg County Sheriff's Office</td>\n      <td>Gunshot</td>\n      <td>No known charges</td>\n      <td>Yes</td>\n      <td>shovel</td>\n      <td>NaN</td>\n      <td>NaN</td>\n      <td>Unclear</td>\n    </tr>\n    <tr>\n      <th>9329</th>\n      <td>9329</td>\n      <td>Angelo D. Moreno</td>\n      <td>27</td>\n      <td>Male</td>\n      <td>Unknown race</td>\n      <td>2013-03-15</td>\n      <td>American Canyon</td>\n      <td>CA</td>\n      <td>94503.0</td>\n      <td>American Canyon Police Department</td>\n      <td>Gunshot</td>\n      <td>No known charges</td>\n      <td>Drug or alcohol use</td>\n      <td>tool</td>\n      <td>NaN</td>\n      <td>NaN</td>\n      <td>Unclear</td>\n    </tr>\n    <tr>\n      <th>9379</th>\n      <td>9379</td>\n      <td>Richard Edward McKenzie</td>\n      <td>46</td>\n      <td>Male</td>\n      <td>Black</td>\n      <td>2013-02-28</td>\n      <td>Houston</td>\n      <td>TX</td>\n      <td>77096.0</td>\n      <td>Houston Police Department</td>\n      <td>Gunshot</td>\n      <td>No known charges</td>\n      <td>No</td>\n      <td>scissors</td>\n      <td>NaN</td>\n      <td>NaN</td>\n      <td>Unclear</td>\n    </tr>\n  </tbody>\n</table>\n</div>"
          },
          "metadata": {}
        }
      ],
      "execution_count": 6
    },
    {
      "cell_type": "code",
      "source": "report.iloc[[6936,8320,8431,9185,9317,9329,9379], report.columns.get_loc('Threat')]  = \"Armed\"\nreport.iloc[[6936,8320,8431,9185,9317,9329,9379], report.columns.get_loc('Armed/Unarmed Status')]  = \"Allegedly Armed\"",
      "metadata": {
        "trusted": true
      },
      "outputs": [],
      "execution_count": 7
    },
    {
      "cell_type": "code",
      "source": "report[(report[\"Threat\"].isna())& (report[\"Armed/Unarmed Status\"] == \"Unclear\") & (report[\"Weapon\"] != \"undetermined\")]",
      "metadata": {
        "trusted": true
      },
      "outputs": [
        {
          "execution_count": 8,
          "output_type": "execute_result",
          "data": {
            "text/plain": "      Unnamed: 0                     Name Age Victim's gender   Race  \\\n3686        3686  Philip Steven McMichael  36            Male  White   \n\n            Date   City State  Zipcode                              Agency  \\\n3686  2018-05-13  Amite    LA  70422.0  Tangipahoa Parish Sheriff's Office   \n\n     Cause of death Criminal Charges? Illness          Weapon Threat Fleeing  \\\n3686        Gunshot  No known charges      No  unknown weapon    NaN     NaN   \n\n     Armed/Unarmed Status  \n3686              Unclear  ",
            "text/html": "<div>\n<style scoped>\n    .dataframe tbody tr th:only-of-type {\n        vertical-align: middle;\n    }\n\n    .dataframe tbody tr th {\n        vertical-align: top;\n    }\n\n    .dataframe thead th {\n        text-align: right;\n    }\n</style>\n<table border=\"1\" class=\"dataframe\">\n  <thead>\n    <tr style=\"text-align: right;\">\n      <th></th>\n      <th>Unnamed: 0</th>\n      <th>Name</th>\n      <th>Age</th>\n      <th>Victim's gender</th>\n      <th>Race</th>\n      <th>Date</th>\n      <th>City</th>\n      <th>State</th>\n      <th>Zipcode</th>\n      <th>Agency</th>\n      <th>Cause of death</th>\n      <th>Criminal Charges?</th>\n      <th>Illness</th>\n      <th>Weapon</th>\n      <th>Threat</th>\n      <th>Fleeing</th>\n      <th>Armed/Unarmed Status</th>\n    </tr>\n  </thead>\n  <tbody>\n    <tr>\n      <th>3686</th>\n      <td>3686</td>\n      <td>Philip Steven McMichael</td>\n      <td>36</td>\n      <td>Male</td>\n      <td>White</td>\n      <td>2018-05-13</td>\n      <td>Amite</td>\n      <td>LA</td>\n      <td>70422.0</td>\n      <td>Tangipahoa Parish Sheriff's Office</td>\n      <td>Gunshot</td>\n      <td>No known charges</td>\n      <td>No</td>\n      <td>unknown weapon</td>\n      <td>NaN</td>\n      <td>NaN</td>\n      <td>Unclear</td>\n    </tr>\n  </tbody>\n</table>\n</div>"
          },
          "metadata": {}
        }
      ],
      "execution_count": 8
    },
    {
      "cell_type": "code",
      "source": "report.iloc[[3686], report.columns.get_loc('Threat')]  = \"Armed\"\nreport.iloc[[3686], report.columns.get_loc('Armed/Unarmed Status')]  = \"Allegedly Armed\"",
      "metadata": {
        "trusted": true
      },
      "outputs": [],
      "execution_count": 9
    },
    {
      "cell_type": "code",
      "source": "report[(report[\"Threat\"].isna())& (report[\"Armed/Unarmed Status\"] == \"Unclear\") & (report[\"Weapon\"] == \"undetermined\")]",
      "metadata": {
        "trusted": true
      },
      "outputs": [
        {
          "execution_count": 10,
          "output_type": "execute_result",
          "data": {
            "text/plain": "      Unnamed: 0                     Name      Age Victim's gender  \\\n0              0        Jose Oyuela-Palma       49            Male   \n33            33         Ronald J. Reiner       66            Male   \n35            35     Martin Luther Bowman       80            Male   \n40            40  Name withheld by police  Unknown            Male   \n43            43            Lonnel Cephas       19            Male   \n...          ...                      ...      ...             ...   \n9450        9450           Jordan Hatcher       22            Male   \n9469        9469             Steven Askew       24            Male   \n9470        9470          Samuel Gonzales       44            Male   \n9487        9487             Frankie Pitt       45            Male   \n9499        9499        Michael W. Daniel       25            Male   \n\n              Race        Date           City State  Zipcode  \\\n0     Unknown race  2021-09-21      Henderson    NV      NaN   \n33    Unknown race  2021-08-30         Normal    IL  61761.0   \n35    Unknown race  2021-08-30    Pearlington    MS  39572.0   \n40    Unknown race  2021-08-29    Morrisville    PA  19067.0   \n43    Unknown race  2021-08-27        Elkhart    IN  46516.0   \n...            ...         ...            ...   ...      ...   \n9450  Unknown race  2013-01-24  Grand Prairie    TX  76018.0   \n9469         Black  2013-01-17        Memphis    TN  38118.0   \n9470      Hispanic  2013-01-17         Tulare    CA  93274.0   \n9487         Black  2013-01-13     Midlothian    VA  23112.0   \n9499         Black  2013-01-11    Little Rock    AR  72204.0   \n\n                                Agency Cause of death Criminal Charges?  \\\n0          Henderson Police Department        Gunshot  No known charges   \n33            Normal Police Department        Gunshot  No known charges   \n35     Hancock County Sheriff's Office        Gunshot  No known charges   \n40    Falls Township Police Department        Gunshot  No known charges   \n43           Elkhart Police Department        Gunshot  No known charges   \n...                                ...            ...               ...   \n9450   Grand Prairie Police Department        Gunshot  No known charges   \n9469         Memphis Police Department        Gunshot  No known charges   \n9470          Tulare Police Department        Gunshot  No known charges   \n9487    Chesterfield Police Department        Gunshot  No known charges   \n9499     Little Rock Police Department        Gunshot  No known charges   \n\n      Illness        Weapon Threat Fleeing Armed/Unarmed Status  \n0          No  undetermined    NaN     NaN              Unclear  \n33         No  undetermined    NaN     NaN              Unclear  \n35         No  undetermined    NaN     NaN              Unclear  \n40         No  undetermined    NaN     NaN              Unclear  \n43    Unclear  undetermined    NaN     NaN              Unclear  \n...       ...           ...    ...     ...                  ...  \n9450       No  undetermined    NaN     NaN              Unclear  \n9469       No  undetermined    NaN     NaN              Unclear  \n9470  Unknown  undetermined    NaN     NaN              Unclear  \n9487       No  undetermined    NaN     NaN              Unclear  \n9499       No  undetermined    NaN     NaN              Unclear  \n\n[264 rows x 17 columns]",
            "text/html": "<div>\n<style scoped>\n    .dataframe tbody tr th:only-of-type {\n        vertical-align: middle;\n    }\n\n    .dataframe tbody tr th {\n        vertical-align: top;\n    }\n\n    .dataframe thead th {\n        text-align: right;\n    }\n</style>\n<table border=\"1\" class=\"dataframe\">\n  <thead>\n    <tr style=\"text-align: right;\">\n      <th></th>\n      <th>Unnamed: 0</th>\n      <th>Name</th>\n      <th>Age</th>\n      <th>Victim's gender</th>\n      <th>Race</th>\n      <th>Date</th>\n      <th>City</th>\n      <th>State</th>\n      <th>Zipcode</th>\n      <th>Agency</th>\n      <th>Cause of death</th>\n      <th>Criminal Charges?</th>\n      <th>Illness</th>\n      <th>Weapon</th>\n      <th>Threat</th>\n      <th>Fleeing</th>\n      <th>Armed/Unarmed Status</th>\n    </tr>\n  </thead>\n  <tbody>\n    <tr>\n      <th>0</th>\n      <td>0</td>\n      <td>Jose Oyuela-Palma</td>\n      <td>49</td>\n      <td>Male</td>\n      <td>Unknown race</td>\n      <td>2021-09-21</td>\n      <td>Henderson</td>\n      <td>NV</td>\n      <td>NaN</td>\n      <td>Henderson Police Department</td>\n      <td>Gunshot</td>\n      <td>No known charges</td>\n      <td>No</td>\n      <td>undetermined</td>\n      <td>NaN</td>\n      <td>NaN</td>\n      <td>Unclear</td>\n    </tr>\n    <tr>\n      <th>33</th>\n      <td>33</td>\n      <td>Ronald J. Reiner</td>\n      <td>66</td>\n      <td>Male</td>\n      <td>Unknown race</td>\n      <td>2021-08-30</td>\n      <td>Normal</td>\n      <td>IL</td>\n      <td>61761.0</td>\n      <td>Normal Police Department</td>\n      <td>Gunshot</td>\n      <td>No known charges</td>\n      <td>No</td>\n      <td>undetermined</td>\n      <td>NaN</td>\n      <td>NaN</td>\n      <td>Unclear</td>\n    </tr>\n    <tr>\n      <th>35</th>\n      <td>35</td>\n      <td>Martin Luther Bowman</td>\n      <td>80</td>\n      <td>Male</td>\n      <td>Unknown race</td>\n      <td>2021-08-30</td>\n      <td>Pearlington</td>\n      <td>MS</td>\n      <td>39572.0</td>\n      <td>Hancock County Sheriff's Office</td>\n      <td>Gunshot</td>\n      <td>No known charges</td>\n      <td>No</td>\n      <td>undetermined</td>\n      <td>NaN</td>\n      <td>NaN</td>\n      <td>Unclear</td>\n    </tr>\n    <tr>\n      <th>40</th>\n      <td>40</td>\n      <td>Name withheld by police</td>\n      <td>Unknown</td>\n      <td>Male</td>\n      <td>Unknown race</td>\n      <td>2021-08-29</td>\n      <td>Morrisville</td>\n      <td>PA</td>\n      <td>19067.0</td>\n      <td>Falls Township Police Department</td>\n      <td>Gunshot</td>\n      <td>No known charges</td>\n      <td>No</td>\n      <td>undetermined</td>\n      <td>NaN</td>\n      <td>NaN</td>\n      <td>Unclear</td>\n    </tr>\n    <tr>\n      <th>43</th>\n      <td>43</td>\n      <td>Lonnel Cephas</td>\n      <td>19</td>\n      <td>Male</td>\n      <td>Unknown race</td>\n      <td>2021-08-27</td>\n      <td>Elkhart</td>\n      <td>IN</td>\n      <td>46516.0</td>\n      <td>Elkhart Police Department</td>\n      <td>Gunshot</td>\n      <td>No known charges</td>\n      <td>Unclear</td>\n      <td>undetermined</td>\n      <td>NaN</td>\n      <td>NaN</td>\n      <td>Unclear</td>\n    </tr>\n    <tr>\n      <th>...</th>\n      <td>...</td>\n      <td>...</td>\n      <td>...</td>\n      <td>...</td>\n      <td>...</td>\n      <td>...</td>\n      <td>...</td>\n      <td>...</td>\n      <td>...</td>\n      <td>...</td>\n      <td>...</td>\n      <td>...</td>\n      <td>...</td>\n      <td>...</td>\n      <td>...</td>\n      <td>...</td>\n      <td>...</td>\n    </tr>\n    <tr>\n      <th>9450</th>\n      <td>9450</td>\n      <td>Jordan Hatcher</td>\n      <td>22</td>\n      <td>Male</td>\n      <td>Unknown race</td>\n      <td>2013-01-24</td>\n      <td>Grand Prairie</td>\n      <td>TX</td>\n      <td>76018.0</td>\n      <td>Grand Prairie Police Department</td>\n      <td>Gunshot</td>\n      <td>No known charges</td>\n      <td>No</td>\n      <td>undetermined</td>\n      <td>NaN</td>\n      <td>NaN</td>\n      <td>Unclear</td>\n    </tr>\n    <tr>\n      <th>9469</th>\n      <td>9469</td>\n      <td>Steven Askew</td>\n      <td>24</td>\n      <td>Male</td>\n      <td>Black</td>\n      <td>2013-01-17</td>\n      <td>Memphis</td>\n      <td>TN</td>\n      <td>38118.0</td>\n      <td>Memphis Police Department</td>\n      <td>Gunshot</td>\n      <td>No known charges</td>\n      <td>No</td>\n      <td>undetermined</td>\n      <td>NaN</td>\n      <td>NaN</td>\n      <td>Unclear</td>\n    </tr>\n    <tr>\n      <th>9470</th>\n      <td>9470</td>\n      <td>Samuel Gonzales</td>\n      <td>44</td>\n      <td>Male</td>\n      <td>Hispanic</td>\n      <td>2013-01-17</td>\n      <td>Tulare</td>\n      <td>CA</td>\n      <td>93274.0</td>\n      <td>Tulare Police Department</td>\n      <td>Gunshot</td>\n      <td>No known charges</td>\n      <td>Unknown</td>\n      <td>undetermined</td>\n      <td>NaN</td>\n      <td>NaN</td>\n      <td>Unclear</td>\n    </tr>\n    <tr>\n      <th>9487</th>\n      <td>9487</td>\n      <td>Frankie Pitt</td>\n      <td>45</td>\n      <td>Male</td>\n      <td>Black</td>\n      <td>2013-01-13</td>\n      <td>Midlothian</td>\n      <td>VA</td>\n      <td>23112.0</td>\n      <td>Chesterfield Police Department</td>\n      <td>Gunshot</td>\n      <td>No known charges</td>\n      <td>No</td>\n      <td>undetermined</td>\n      <td>NaN</td>\n      <td>NaN</td>\n      <td>Unclear</td>\n    </tr>\n    <tr>\n      <th>9499</th>\n      <td>9499</td>\n      <td>Michael W. Daniel</td>\n      <td>25</td>\n      <td>Male</td>\n      <td>Black</td>\n      <td>2013-01-11</td>\n      <td>Little Rock</td>\n      <td>AR</td>\n      <td>72204.0</td>\n      <td>Little Rock Police Department</td>\n      <td>Gunshot</td>\n      <td>No known charges</td>\n      <td>No</td>\n      <td>undetermined</td>\n      <td>NaN</td>\n      <td>NaN</td>\n      <td>Unclear</td>\n    </tr>\n  </tbody>\n</table>\n<p>264 rows × 17 columns</p>\n</div>"
          },
          "metadata": {}
        }
      ],
      "execution_count": 10
    },
    {
      "cell_type": "code",
      "source": "report = report.drop(columns = \"Zipcode\")",
      "metadata": {
        "trusted": true
      },
      "outputs": [],
      "execution_count": 11
    },
    {
      "cell_type": "code",
      "source": "report[[\"Threat\",\"Fleeing\",\"City\",\"Agency\"]] = report[[\"Threat\",\"Fleeing\",\"City\",\"Agency\"]].mask(report[[\"Threat\",\"Fleeing\",\"City\",\"Agency\"]].isna(),\"NA\")",
      "metadata": {
        "trusted": true
      },
      "outputs": [],
      "execution_count": 12
    },
    {
      "cell_type": "code",
      "source": "report[\"Race\"] = report[\"Race\"].mask(report[\"Race\"]==\"Unknown race\",\"NA\")",
      "metadata": {
        "trusted": true
      },
      "outputs": [],
      "execution_count": 13
    },
    {
      "cell_type": "code",
      "source": "report[\"Age\"] = report[\"Age\"].mask((report[\"Age\"]==\"Unknown\")|(report[\"Age\"].isnull()),-99)",
      "metadata": {
        "trusted": true
      },
      "outputs": [],
      "execution_count": 14
    },
    {
      "cell_type": "code",
      "source": "report[\"Threat\"] = report[\"Threat\"].mask(report[\"Threat\"]==\"undetermined\",\"NA\")",
      "metadata": {
        "trusted": true
      },
      "outputs": [],
      "execution_count": 15
    },
    {
      "cell_type": "code",
      "source": "#report[\"Threat\"] = report[\"Threat\"].mask(report[\"Threat\"]==\"other \",\"other\")",
      "metadata": {
        "trusted": true
      },
      "outputs": [],
      "execution_count": 16
    },
    {
      "cell_type": "code",
      "source": "report[\"Threat\"] = report[\"Threat\"].mask(report[\"Threat\"].str.contains(\"other\", na=False, case=False), \"other\")",
      "metadata": {
        "trusted": true
      },
      "outputs": [],
      "execution_count": 17
    },
    {
      "cell_type": "code",
      "source": "report[\"Armed/Unarmed Status\"] = report[\"Armed/Unarmed Status\"].mask(report[\"Armed/Unarmed Status\"]==\"Unclear\",\"NA\")",
      "metadata": {
        "trusted": true
      },
      "outputs": [],
      "execution_count": 18
    },
    {
      "cell_type": "code",
      "source": "report[\"Armed/Unarmed Status\"] = report[\"Armed/Unarmed Status\"].mask(report[\"Armed/Unarmed Status\"]==\"Allegedly armed\",\"Allegedly Armed\")\n",
      "metadata": {
        "trusted": true
      },
      "outputs": [],
      "execution_count": 19
    },
    {
      "cell_type": "code",
      "source": "#report[\"Illness\"] = report[\"Illness\"].mask((report[\"Illness\"].isnull())|(report[\"Illness\"]==\"Unknown\"),\"Unclear\")",
      "metadata": {
        "trusted": true
      },
      "outputs": [],
      "execution_count": 20
    },
    {
      "cell_type": "code",
      "source": "report[\"Illness\"] = report[\"Illness\"].mask(report[\"Illness\"].str.contains(\"unknown\", na=True, case=False), \"Unclear\")",
      "metadata": {
        "trusted": true
      },
      "outputs": [],
      "execution_count": 21
    },
    {
      "cell_type": "code",
      "source": "#report[\"City\"] = report[\"City\"].mask(report[\"City\"].isna(),\"NA\")",
      "metadata": {
        "trusted": true
      },
      "outputs": [],
      "execution_count": 22
    },
    {
      "cell_type": "code",
      "source": "#report[\"Agency\"] = report[\"Agency\"].mask(report[\"Agency\"].isna(),\"NA\")",
      "metadata": {
        "trusted": true
      },
      "outputs": [],
      "execution_count": 23
    },
    {
      "cell_type": "code",
      "source": "#report[\"Fleeing\"] = report[\"Fleeing\"].mask((report[\"Fleeing\"]==\"not fleeing\")|(report[\"Fleeing\"]==\"Not fleeing\")|(report[\"Fleeing\"]==\"Not Fleeing\")|(report[\"Fleeing\"]==\"not fleeing \"),\"Not Fleeing\")",
      "metadata": {
        "trusted": true
      },
      "outputs": [],
      "execution_count": 24
    },
    {
      "cell_type": "code",
      "source": "report[\"Fleeing\"] = report[\"Fleeing\"].mask(report[\"Fleeing\"].str.contains(\"not fleeing\", na=False, case=False), \"Not Fleeing\")\n",
      "metadata": {
        "trusted": true
      },
      "outputs": [],
      "execution_count": 25
    },
    {
      "cell_type": "code",
      "source": "#report[\"Fleeing\"] = report[\"Fleeing\"].mask((report[\"Fleeing\"]==\"Car\")|(report[\"Fleeing\"]==\"car\"),\"Car\")",
      "metadata": {
        "trusted": true
      },
      "outputs": [],
      "execution_count": 26
    },
    {
      "cell_type": "code",
      "source": "report[\"Fleeing\"] = report[\"Fleeing\"].mask(report[\"Fleeing\"].str.contains(\"car\", na=False, case=False), \"Car\")",
      "metadata": {
        "trusted": true
      },
      "outputs": [],
      "execution_count": 27
    },
    {
      "cell_type": "code",
      "source": "#report[\"Fleeing\"] = report[\"Fleeing\"].mask((report[\"Fleeing\"]==\"foot\")|(report[\"Fleeing\"]==\"Foot\"),\"Foot\")",
      "metadata": {
        "trusted": true
      },
      "outputs": [],
      "execution_count": 28
    },
    {
      "cell_type": "code",
      "source": "report[\"Fleeing\"] = report[\"Fleeing\"].mask(report[\"Fleeing\"].str.contains(\"foot\", na=False, case=False), \"Foot\")",
      "metadata": {
        "trusted": true
      },
      "outputs": [],
      "execution_count": 29
    },
    {
      "cell_type": "code",
      "source": "#report[\"Fleeing\"] = report[\"Fleeing\"].mask((report[\"Fleeing\"]==\"Other\")|(report[\"Fleeing\"]==\"other\"),\"Other\")",
      "metadata": {
        "trusted": true
      },
      "outputs": [],
      "execution_count": 30
    },
    {
      "cell_type": "code",
      "source": "report[\"Fleeing\"] = report[\"Fleeing\"].mask(report[\"Fleeing\"].str.contains(\"Other\", na=False, case=False), \"Other\")",
      "metadata": {
        "trusted": true
      },
      "outputs": [],
      "execution_count": 31
    },
    {
      "cell_type": "code",
      "source": "report[\"Illness\"] = report[\"Illness\"].mask((report[\"Illness\"]==\"Drug or Alcohol Use\"),\"Drug or alcohol use\")",
      "metadata": {
        "trusted": true
      },
      "outputs": [],
      "execution_count": 32
    },
    {
      "cell_type": "code",
      "source": "report = report.drop(columns=\"Unnamed: 0\")",
      "metadata": {
        "trusted": true
      },
      "outputs": [],
      "execution_count": 44
    },
    {
      "cell_type": "code",
      "source": "report[\"Race\"].nunique()",
      "metadata": {
        "trusted": true
      },
      "outputs": [
        {
          "execution_count": 46,
          "output_type": "execute_result",
          "data": {
            "text/plain": "9"
          },
          "metadata": {}
        }
      ],
      "execution_count": 46
    },
    {
      "cell_type": "code",
      "source": "report.iloc[9536]",
      "metadata": {
        "trusted": true
      },
      "outputs": [
        {
          "execution_count": 59,
          "output_type": "execute_result",
          "data": {
            "text/plain": "Name                                     Mark Chavez\nAge                                               49\nVictim's gender                                 Male\nRace                                        Hispanic\nDate                                      2013-01-01\nCity                                      Farmington\nState                                             NM\nAgency                  Farmington Police Department\nCause of death                               Gunshot\nCriminal Charges?                   No known charges\nIllness                                           No\nWeapon                                  blunt weapon\nThreat                                            NA\nFleeing                                           NA\nArmed/Unarmed Status                 Allegedly Armed\nName: 9536, dtype: object"
          },
          "metadata": {}
        }
      ],
      "execution_count": 59
    },
    {
      "cell_type": "code",
      "source": "report[report[\"Age\"].str.isdigit() == False]",
      "metadata": {
        "trusted": true
      },
      "outputs": [
        {
          "execution_count": 72,
          "output_type": "execute_result",
          "data": {
            "text/plain": "                         Name     Age Victim's gender   Race        Date  \\\n62         Jamar Jason Taylor  $33.00            Male     NA  2021-08-24   \n4411  Name withheld by police     40s            Male  Black  2017-09-28   \n\n             City State                     Agency Cause of death  \\\n62    Butler City    IL   Amtrak Police Department        Gunshot   \n4411      Oakland    CA  Oakland Police Department          Taser   \n\n     Criminal Charges?  Illness     Weapon  Threat Fleeing  \\\n62    No known charges       No        gun  attack    Foot   \n4411  No known charges  Unclear  no object   other    Foot   \n\n                    Armed/Unarmed Status  \n62                       Allegedly Armed  \n4411  Unarmed/Did Not Have Actual Weapon  ",
            "text/html": "<div>\n<style scoped>\n    .dataframe tbody tr th:only-of-type {\n        vertical-align: middle;\n    }\n\n    .dataframe tbody tr th {\n        vertical-align: top;\n    }\n\n    .dataframe thead th {\n        text-align: right;\n    }\n</style>\n<table border=\"1\" class=\"dataframe\">\n  <thead>\n    <tr style=\"text-align: right;\">\n      <th></th>\n      <th>Name</th>\n      <th>Age</th>\n      <th>Victim's gender</th>\n      <th>Race</th>\n      <th>Date</th>\n      <th>City</th>\n      <th>State</th>\n      <th>Agency</th>\n      <th>Cause of death</th>\n      <th>Criminal Charges?</th>\n      <th>Illness</th>\n      <th>Weapon</th>\n      <th>Threat</th>\n      <th>Fleeing</th>\n      <th>Armed/Unarmed Status</th>\n    </tr>\n  </thead>\n  <tbody>\n    <tr>\n      <th>62</th>\n      <td>Jamar Jason Taylor</td>\n      <td>$33.00</td>\n      <td>Male</td>\n      <td>NA</td>\n      <td>2021-08-24</td>\n      <td>Butler City</td>\n      <td>IL</td>\n      <td>Amtrak Police Department</td>\n      <td>Gunshot</td>\n      <td>No known charges</td>\n      <td>No</td>\n      <td>gun</td>\n      <td>attack</td>\n      <td>Foot</td>\n      <td>Allegedly Armed</td>\n    </tr>\n    <tr>\n      <th>4411</th>\n      <td>Name withheld by police</td>\n      <td>40s</td>\n      <td>Male</td>\n      <td>Black</td>\n      <td>2017-09-28</td>\n      <td>Oakland</td>\n      <td>CA</td>\n      <td>Oakland Police Department</td>\n      <td>Taser</td>\n      <td>No known charges</td>\n      <td>Unclear</td>\n      <td>no object</td>\n      <td>other</td>\n      <td>Foot</td>\n      <td>Unarmed/Did Not Have Actual Weapon</td>\n    </tr>\n  </tbody>\n</table>\n</div>"
          },
          "metadata": {}
        }
      ],
      "execution_count": 72
    },
    {
      "cell_type": "code",
      "source": "report.iloc[[62], report.columns.get_loc('Age')]  = 33",
      "metadata": {
        "trusted": true
      },
      "outputs": [],
      "execution_count": 75
    },
    {
      "cell_type": "code",
      "source": "report.iloc[[4411], report.columns.get_loc('Age')]  = 43",
      "metadata": {
        "trusted": true
      },
      "outputs": [],
      "execution_count": 77
    },
    {
      "cell_type": "code",
      "source": "report[report[\"Age\"].str.isdigit() == False]\n",
      "metadata": {
        "trusted": true
      },
      "outputs": [
        {
          "execution_count": 78,
          "output_type": "execute_result",
          "data": {
            "text/plain": "Empty DataFrame\nColumns: [Name, Age, Victim's gender, Race, Date, City, State, Agency, Cause of death, Criminal Charges?, Illness, Weapon, Threat, Fleeing, Armed/Unarmed Status]\nIndex: []",
            "text/html": "<div>\n<style scoped>\n    .dataframe tbody tr th:only-of-type {\n        vertical-align: middle;\n    }\n\n    .dataframe tbody tr th {\n        vertical-align: top;\n    }\n\n    .dataframe thead th {\n        text-align: right;\n    }\n</style>\n<table border=\"1\" class=\"dataframe\">\n  <thead>\n    <tr style=\"text-align: right;\">\n      <th></th>\n      <th>Name</th>\n      <th>Age</th>\n      <th>Victim's gender</th>\n      <th>Race</th>\n      <th>Date</th>\n      <th>City</th>\n      <th>State</th>\n      <th>Agency</th>\n      <th>Cause of death</th>\n      <th>Criminal Charges?</th>\n      <th>Illness</th>\n      <th>Weapon</th>\n      <th>Threat</th>\n      <th>Fleeing</th>\n      <th>Armed/Unarmed Status</th>\n    </tr>\n  </thead>\n  <tbody>\n  </tbody>\n</table>\n</div>"
          },
          "metadata": {}
        }
      ],
      "execution_count": 78
    },
    {
      "cell_type": "code",
      "source": "report[\"Age\"] = report[\"Age\"].astype(int)",
      "metadata": {
        "trusted": true
      },
      "outputs": [],
      "execution_count": 80
    },
    {
      "cell_type": "code",
      "source": "#report[report[\"Race\"].str.contains(\" knife \", na=False, case=False)]",
      "metadata": {
        "trusted": true
      },
      "outputs": [],
      "execution_count": 108
    },
    {
      "cell_type": "code",
      "source": "report.iloc[[4473], report.columns.get_loc('Cause of death')]  = \"Gunshot\"",
      "metadata": {
        "trusted": true
      },
      "outputs": [],
      "execution_count": 109
    },
    {
      "cell_type": "code",
      "source": "report.to_csv(\"Data Corrected.csv\")",
      "metadata": {
        "trusted": true
      },
      "outputs": [],
      "execution_count": 114
    },
    {
      "cell_type": "code",
      "source": "",
      "metadata": {
        "trusted": true
      },
      "outputs": [],
      "execution_count": null
    }
  ]
}